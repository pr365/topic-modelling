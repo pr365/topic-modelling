{
 "cells": [
  {
   "cell_type": "code",
   "execution_count": 28,
   "metadata": {},
   "outputs": [
    {
     "name": "stderr",
     "output_type": "stream",
     "text": [
      "C:\\Users\\pranith\\Anaconda3\\lib\\site-packages\\ipykernel\\ipkernel.py:287: DeprecationWarning: `should_run_async` will not call `transform_cell` automatically in the future. Please pass the result to `transformed_cell` argument and any exception that happen during thetransform in `preprocessing_exc_tuple` in IPython 7.17 and above.\n",
      "  and should_run_async(code)\n"
     ]
    }
   ],
   "source": [
    "from gensim.models import word2vec "
   ]
  },
  {
   "cell_type": "code",
   "execution_count": 6,
   "metadata": {},
   "outputs": [],
   "source": [
    "import spacy\n",
    "spacy.load(\"en_core_web_sm\")\n",
    "from spacy.lang.en import English\n",
    "parser = English()\n",
    "\n",
    "def tokenize(text):\n",
    "    lda_tokens = []\n",
    "    tokens = parser(text)\n",
    "    for token in tokens:\n",
    "        if token.orth_.isspace():\n",
    "            continue\n",
    "        elif token.like_url:\n",
    "            lda_tokens.append('URL')\n",
    "        elif token.orth_.startswith('@'):\n",
    "            lda_tokens.append('SCREEN_NAME')\n",
    "        else:\n",
    "            lda_tokens.append(token.lower_)\n",
    "    return lda_tokens"
   ]
  },
  {
   "cell_type": "code",
   "execution_count": 7,
   "metadata": {},
   "outputs": [
    {
     "name": "stderr",
     "output_type": "stream",
     "text": [
      "[nltk_data] Downloading package wordnet to\n",
      "[nltk_data]     C:\\Users\\pranith\\AppData\\Roaming\\nltk_data...\n",
      "[nltk_data]   Package wordnet is already up-to-date!\n"
     ]
    },
    {
     "data": {
      "text/plain": [
       "True"
      ]
     },
     "execution_count": 7,
     "metadata": {},
     "output_type": "execute_result"
    }
   ],
   "source": [
    "import nltk\n",
    "nltk.download('wordnet')"
   ]
  },
  {
   "cell_type": "code",
   "execution_count": 8,
   "metadata": {},
   "outputs": [],
   "source": [
    "from nltk.corpus import wordnet as wn\n",
    "def get_lemma(word):\n",
    "    lemma = wn.morphy(word)\n",
    "    if lemma is None:\n",
    "        return word\n",
    "    else:\n",
    "        return lemma\n",
    "    \n",
    "from nltk.stem.wordnet import WordNetLemmatizer\n",
    "def get_lemma2(word):\n",
    "    return WordNetLemmatizer().lemmatize(word)"
   ]
  },
  {
   "cell_type": "code",
   "execution_count": 9,
   "metadata": {},
   "outputs": [
    {
     "name": "stdout",
     "output_type": "stream",
     "text": [
      "dogs dog dog\n",
      "ran run ran\n",
      "discouraged discourage discouraged\n"
     ]
    }
   ],
   "source": [
    "for w in ['dogs', 'ran', 'discouraged']:\n",
    "    print(w, get_lemma(w), get_lemma2(w))"
   ]
  },
  {
   "cell_type": "code",
   "execution_count": 10,
   "metadata": {},
   "outputs": [
    {
     "name": "stderr",
     "output_type": "stream",
     "text": [
      "[nltk_data] Downloading package stopwords to\n",
      "[nltk_data]     C:\\Users\\pranith\\AppData\\Roaming\\nltk_data...\n",
      "[nltk_data]   Package stopwords is already up-to-date!\n"
     ]
    }
   ],
   "source": [
    "nltk.download('stopwords')\n",
    "en_stop = set(nltk.corpus.stopwords.words('english'))"
   ]
  },
  {
   "cell_type": "code",
   "execution_count": 11,
   "metadata": {},
   "outputs": [],
   "source": [
    "def prepare_text_for_lda(text):\n",
    "    tokens = tokenize(text)\n",
    "    tokens = [token for token in tokens if len(token) > 4]\n",
    "    tokens = [token for token in tokens if token not in en_stop]\n",
    "    tokens = [get_lemma(token) for token in tokens]\n",
    "    return tokens"
   ]
  },
  {
   "cell_type": "code",
   "execution_count": 13,
   "metadata": {},
   "outputs": [
    {
     "name": "stdout",
     "output_type": "stream",
     "text": [
      "['predict', 'reflectance', 'function', 'complex', 'surface']\n",
      "['analysis', 'signal', 'power', 'integrity', 'using', 'multilayered', 'finite', 'difference', 'method']\n",
      "['custom', 'design', 'subbyte', 'module', 'signal', 'independent', 'power', 'consumption']\n",
      "['sup>2</sup', 'parallel', 'pipelined', 'efficient', 'architecture', 'discrete', 'wavelet', 'transform']\n",
      "['comparative', 'evaluation', 'javascript', 'framework']\n",
      "['toward', 'simple', 'criterion', 'establish', 'capacity', 'scaling', 'wireless', 'network']\n",
      "['improve', 'class', 'buffer', 'base', 'differential', 'flip', 'voltage', 'followers']\n",
      "['measurement', 'base', 'editing', 'diffuse', 'albedo', 'consistent', 'interreflection']\n",
      "['analysis', 'blocking', 'probability', 'noise', 'crosstalk', 'impair', 'optical', 'network']\n",
      "['optimal', 'allocation', 'scalable', 'video', 'multicast', 'wimax']\n",
      "['adapt', 'dynamic', 'service', 'composition']\n",
      "['base', 'traffic', 'localization']\n",
      "['digital', 'halftoning', 'space', 'filling', 'curve']\n",
      "['rapid', 'prototyping', 'application', 'combining', 'domain', 'specific', 'language', 'model', 'drive', 'design']\n",
      "['lighting', 'technology']\n",
      "['impact', 'technology', 'architecture', 'secondary', 'storage', 'large', 'base']\n",
      "['sheaf', 'sheet', 'concept', 'tangible', 'interface', 'browsing', 'flexible', 'paper']\n",
      "['factorize', 'personalize', 'markov', 'chains', 'basket', 'recommendation']\n",
      "['micropower', 'comparator', 'power', 'efficiency', 'hearing', 'class', 'amplifier']\n",
      "['comparative', 'study', 'network', 'base', 'anomaly', 'detection', 'method']\n"
     ]
    }
   ],
   "source": [
    "import random\n",
    "text_data = []\n",
    "with open('dataset.csv') as f:\n",
    "    for line in f:\n",
    "        tokens = prepare_text_for_lda(line)\n",
    "        if random.random() > .99:\n",
    "            print(tokens)\n",
    "            text_data.append(tokens)"
   ]
  },
  {
   "cell_type": "code",
   "execution_count": 14,
   "metadata": {},
   "outputs": [],
   "source": [
    "from gensim import corpora\n",
    "dictionary = corpora.Dictionary(text_data)"
   ]
  },
  {
   "cell_type": "code",
   "execution_count": 15,
   "metadata": {},
   "outputs": [],
   "source": [
    "corpus = [dictionary.doc2bow(text) for text in text_data]"
   ]
  },
  {
   "cell_type": "code",
   "execution_count": 16,
   "metadata": {},
   "outputs": [],
   "source": [
    "import pickle\n",
    "pickle.dump(corpus, open('corpus.pkl', 'wb'))\n",
    "dictionary.save('dictionary.gensim')"
   ]
  },
  {
   "cell_type": "code",
   "execution_count": 17,
   "metadata": {},
   "outputs": [],
   "source": [
    "import gensim\n",
    "NUM_TOPICS = 5\n",
    "ldamodel = gensim.models.ldamodel.LdaModel(corpus, num_topics = NUM_TOPICS, id2word=dictionary, passes=15)\n",
    "ldamodel.save('model5.gensim')"
   ]
  },
  {
   "cell_type": "code",
   "execution_count": 18,
   "metadata": {},
   "outputs": [
    {
     "name": "stdout",
     "output_type": "stream",
     "text": [
      "(0, '0.041*\"base\" + 0.041*\"comparative\" + 0.022*\"technology\" + 0.022*\"module\"')\n",
      "(1, '0.030*\"power\" + 0.030*\"method\" + 0.030*\"signal\" + 0.030*\"analysis\"')\n",
      "(2, '0.041*\"base\" + 0.022*\"design\" + 0.022*\"combining\" + 0.022*\"rapid\"')\n",
      "(3, '0.028*\"class\" + 0.028*\"hearing\" + 0.028*\"micropower\" + 0.028*\"efficiency\"')\n",
      "(4, '0.041*\"network\" + 0.022*\"crosstalk\" + 0.022*\"toward\" + 0.022*\"flexible\"')\n"
     ]
    }
   ],
   "source": [
    "topics = ldamodel.print_topics(num_words=4)\n",
    "for topic in topics:\n",
    "    print(topic)"
   ]
  },
  {
   "cell_type": "code",
   "execution_count": 19,
   "metadata": {},
   "outputs": [
    {
     "name": "stdout",
     "output_type": "stream",
     "text": [
      "[]\n",
      "[(0, 0.2), (1, 0.2), (2, 0.2), (3, 0.2), (4, 0.2)]\n"
     ]
    }
   ],
   "source": [
    "new_doc = 'Practical Bayesian Optimization of Machine Learning Algorithms'\n",
    "new_doc = prepare_text_for_lda(new_doc)\n",
    "new_doc_bow = dictionary.doc2bow(new_doc)\n",
    "print(new_doc_bow)\n",
    "print(ldamodel.get_document_topics(new_doc_bow))"
   ]
  },
  {
   "cell_type": "code",
   "execution_count": 20,
   "metadata": {},
   "outputs": [
    {
     "name": "stdout",
     "output_type": "stream",
     "text": [
      "(0, '0.029*\"base\" + 0.016*\"comparative\" + 0.016*\"power\" + 0.016*\"class\"')\n",
      "(1, '0.028*\"architecture\" + 0.028*\"technology\" + 0.028*\"base\" + 0.016*\"design\"')\n",
      "(2, '0.030*\"network\" + 0.030*\"analysis\" + 0.017*\"method\" + 0.017*\"power\"')\n"
     ]
    }
   ],
   "source": [
    "ldamodel = gensim.models.ldamodel.LdaModel(corpus, num_topics = 3, id2word=dictionary, passes=15)\n",
    "ldamodel.save('model3.gensim')\n",
    "topics = ldamodel.print_topics(num_words=4)\n",
    "for topic in topics:\n",
    "    print(topic)\n"
   ]
  },
  {
   "cell_type": "code",
   "execution_count": 21,
   "metadata": {},
   "outputs": [
    {
     "name": "stdout",
     "output_type": "stream",
     "text": [
      "(0, '0.029*\"method\" + 0.029*\"signal\" + 0.029*\"analysis\" + 0.029*\"sheet\"')\n",
      "(1, '0.082*\"technology\" + 0.082*\"lighting\" + 0.007*\"base\" + 0.007*\"power\"')\n",
      "(2, '0.060*\"base\" + 0.060*\"diffuse\" + 0.060*\"albedo\" + 0.060*\"measurement\"')\n",
      "(3, '0.040*\"design\" + 0.040*\"domain\" + 0.040*\"language\" + 0.040*\"model\"')\n",
      "(4, '0.040*\"power\" + 0.040*\"efficiency\" + 0.040*\"video\" + 0.040*\"amplifier\"')\n",
      "(5, '0.067*\"digital\" + 0.067*\"filling\" + 0.067*\"space\" + 0.067*\"halftoning\"')\n",
      "(6, '0.071*\"comparative\" + 0.071*\"javascript\" + 0.071*\"framework\" + 0.071*\"evaluation\"')\n",
      "(7, '0.040*\"architecture\" + 0.040*\"transform\" + 0.040*\"criterion\" + 0.040*\"parallel\"')\n",
      "(8, '0.057*\"base\" + 0.057*\"class\" + 0.057*\"voltage\" + 0.057*\"followers\"')\n",
      "(9, '0.051*\"base\" + 0.051*\"network\" + 0.027*\"crosstalk\" + 0.027*\"optical\"')\n"
     ]
    }
   ],
   "source": [
    "ldamodel = gensim.models.ldamodel.LdaModel(corpus, num_topics = 10, id2word=dictionary, passes=15)\n",
    "ldamodel.save('model10.gensim')\n",
    "topics = ldamodel.print_topics(num_words=4)\n",
    "for topic in topics:\n",
    "    print(topic)"
   ]
  },
  {
   "cell_type": "code",
   "execution_count": 22,
   "metadata": {},
   "outputs": [],
   "source": [
    "dictionary = gensim.corpora.Dictionary.load('dictionary.gensim')\n",
    "corpus = pickle.load(open('corpus.pkl', 'rb'))\n",
    "lda = gensim.models.ldamodel.LdaModel.load('model5.gensim')"
   ]
  },
  {
   "cell_type": "code",
   "execution_count": 26,
   "metadata": {},
   "outputs": [
    {
     "name": "stderr",
     "output_type": "stream",
     "text": [
      "C:\\Users\\pranith\\Anaconda3\\lib\\site-packages\\ipykernel\\ipkernel.py:287: DeprecationWarning: `should_run_async` will not call `transform_cell` automatically in the future. Please pass the result to `transformed_cell` argument and any exception that happen during thetransform in `preprocessing_exc_tuple` in IPython 7.17 and above.\n",
      "  and should_run_async(code)\n",
      "C:\\Users\\pranith\\Anaconda3\\lib\\site-packages\\pyLDAvis\\_prepare.py:246: FutureWarning: In a future version of pandas all arguments of DataFrame.drop except for the argument 'labels' will be keyword-only\n",
      "  default_term_info = default_term_info.sort_values(\n"
     ]
    },
    {
     "data": {
      "text/html": [
       "\n",
       "<link rel=\"stylesheet\" type=\"text/css\" href=\"https://cdn.jsdelivr.net/gh/bmabey/pyLDAvis@3.3.1/pyLDAvis/js/ldavis.v1.0.0.css\">\n",
       "\n",
       "\n",
       "<div id=\"ldavis_el1964014810877037444221551111\"></div>\n",
       "<script type=\"text/javascript\">\n",
       "\n",
       "var ldavis_el1964014810877037444221551111_data = {\"mdsDat\": {\"x\": [-0.004081266173161562, 0.013283646963539408, -0.10339280514872412, -0.020802228989186197, 0.11499265334753248], \"y\": [-0.08853713886767994, -0.04236360389798488, 0.08310571418046062, -0.024285563864988893, 0.07208059245019315], \"topics\": [1, 2, 3, 4, 5], \"cluster\": [1, 1, 1, 1, 1], \"Freq\": [23.180628043362, 13.835322386835047, 23.23269876748009, 16.00893623841738, 23.742414563905484]}, \"tinfo\": {\"Term\": [\"comparative\", \"power\", \"method\", \"signal\", \"technology\", \"analysis\", \"network\", \"integrity\", \"multilayered\", \"difference\", \"using\", \"finite\", \"multicast\", \"scalable\", \"allocation\", \"video\", \"optimal\", \"wimax\", \"lighting\", \"class\", \"architecture\", \"hearing\", \"micropower\", \"efficiency\", \"amplifier\", \"comparator\", \"complex\", \"function\", \"reflectance\", \"surface\", \"comparative\", \"module\", \"independent\", \"subbyte\", \"consumption\", \"custom\", \"anomaly\", \"storage\", \"study\", \"large\", \"secondary\", \"detection\", \"impact\", \"space\", \"curve\", \"filling\", \"halftoning\", \"digital\", \"framework\", \"evaluation\", \"javascript\", \"technology\", \"signal\", \"method\", \"architecture\", \"design\", \"base\", \"power\", \"network\", \"lighting\", \"integrity\", \"multilayered\", \"difference\", \"using\", \"finite\", \"multicast\", \"scalable\", \"allocation\", \"video\", \"optimal\", \"wimax\", \"lighting\", \"method\", \"signal\", \"technology\", \"analysis\", \"power\", \"reflectance\", \"predict\", \"surface\", \"complex\", \"function\", \"amplifier\", \"efficiency\", \"micropower\", \"hearing\", \"comparator\", \"efficient\", \"discrete\", \"pipelined\", \"sup>2</sup\", \"base\", \"traffic\", \"localization\", \"javascript\", \"evaluation\", \"network\", \"composition\", \"service\", \"architecture\", \"dynamic\", \"adapt\", \"framework\", \"class\", \"combining\", \"rapid\", \"domain\", \"prototyping\", \"specific\", \"application\", \"drive\", \"model\", \"language\", \"voltage\", \"flip\", \"differential\", \"followers\", \"buffer\", \"improve\", \"factorize\", \"basket\", \"personalize\", \"markov\", \"recommendation\", \"chains\", \"adapt\", \"dynamic\", \"service\", \"composition\", \"localization\", \"traffic\", \"class\", \"design\", \"base\", \"hearing\", \"micropower\", \"efficiency\", \"amplifier\", \"comparator\", \"complex\", \"function\", \"reflectance\", \"surface\", \"predict\", \"discrete\", \"pipelined\", \"efficient\", \"wavelet\", \"transform\", \"sup>2</sup\", \"parallel\", \"architecture\", \"class\", \"power\", \"lighting\", \"wimax\", \"allocation\", \"scalable\", \"video\", \"multicast\", \"optimal\", \"finite\", \"using\", \"multilayered\", \"consistent\", \"interreflection\", \"measurement\", \"diffuse\", \"albedo\", \"editing\", \"base\", \"technology\", \"localization\", \"crosstalk\", \"toward\", \"flexible\", \"interface\", \"browsing\", \"probability\", \"simple\", \"capacity\", \"wireless\", \"noise\", \"sheet\", \"establish\", \"paper\", \"criterion\", \"concept\", \"impair\", \"sheaf\", \"blocking\", \"tangible\", \"scaling\", \"optical\", \"editing\", \"albedo\", \"diffuse\", \"measurement\", \"interreflection\", \"consistent\", \"network\", \"analysis\", \"base\"], \"Freq\": [1.0, 2.0, 1.0, 1.0, 1.0, 1.0, 2.0, 0.0, 0.0, 0.0, 0.0, 0.0, 0.0, 0.0, 0.0, 0.0, 0.0, 0.0, 0.0, 1.0, 1.0, 1.0, 1.0, 1.0, 1.0, 1.0, 1.0, 1.0, 1.0, 1.0, 1.232265420644994, 0.6721426113228184, 0.6721422184095336, 0.6721421061485952, 0.6721417132353104, 0.6721413764524949, 0.6721401977126407, 0.6721399170602944, 0.6721399170602944, 0.6721394118860712, 0.6721393557556019, 0.672138682189971, 0.6721383454071554, 0.6721334620563308, 0.6721331252735154, 0.6721330130125769, 0.6721325078383537, 0.672130318750053, 0.6721268947914288, 0.6721263896172056, 0.6721245934421897, 0.6728501358876927, 0.6718708837211875, 0.6718039200713743, 0.6718974334331419, 0.6720667229283948, 1.2335450830829158, 0.6717425133380167, 0.6714382300642219, 0.1120381636803957, 0.5422591750662599, 0.5422588400524128, 0.5422585720413351, 0.5422584045344117, 0.5422582035261034, 0.5422556574208659, 0.5422548533876329, 0.5422547528834788, 0.5422547528834788, 0.54225461887794, 0.5422534128280907, 0.5422276837646376, 0.5425350924706867, 0.542482662803624, 0.5416685791553031, 0.5424773360834559, 0.5426113751236589, 0.0903830591559453, 0.09038300890386824, 0.09038288327367561, 0.09038272414209826, 0.09038268226536737, 0.09038170234986477, 0.09038165209778772, 0.0903815850950183, 0.09038148459086419, 0.09038144271413331, 0.09038118307840184, 0.09038111607563244, 0.09038092344267039, 0.09038114120167097, 0.09039264892731698, 0.09038774097445776, 0.09038753996614954, 0.09038552150772108, 0.09038532887475903, 0.09038519486922023, 0.09038519486922023, 0.09038517811852786, 0.09038512786645081, 0.09038508598971993, 0.09038494360883494, 0.09038486823071935, 0.09038480960329612, 0.673659817180036, 0.6736593671275934, 0.6736591983579274, 0.6736591983579274, 0.6736591983579274, 0.6736590295882615, 0.6736589170751509, 0.6736586357923744, 0.6736582982530425, 0.6736563855301618, 0.6736563292736065, 0.6736563292736065, 0.6736559917342746, 0.673655879221164, 0.6736551478859449, 0.6736519975188473, 0.6736518287491814, 0.6736511536705176, 0.6736508723877411, 0.6736507598746304, 0.6736499160263008, 0.6736406899512294, 0.6736400711291209, 0.6736393960504572, 0.6736393397939018, 0.6736290448442794, 0.6736287635615029, 0.6735265454004983, 0.673739870258247, 1.2348482660971816, 0.5834676743758612, 0.5834675580818892, 0.5834675193172318, 0.5834674417879172, 0.5834673254939451, 0.5834630226169795, 0.583462751264378, 0.5834622860884898, 0.5834620147358883, 0.5834618984419163, 0.5831900806645874, 0.5831895767240419, 0.5831869407273421, 0.5831640695795065, 0.5831590301740511, 0.5831521300650431, 0.5831214672210803, 0.5833934788216959, 0.5835855576988586, 0.5834516645723763, 0.09725855798145806, 0.09725125084354784, 0.09725076628533098, 0.09725070813834495, 0.09725062091786592, 0.09725054338855123, 0.09725053369738688, 0.0972496518014322, 0.09724952581629583, 0.09724950643396714, 0.09771931469870437, 0.09767035493647301, 0.09766345482746494, 0.09765472308839715, 0.09764866611068643, 0.09750255242597494, 0.09763341221801972, 0.09726158162473125, 0.09725649376345424, 0.6884500981098639, 0.6884499256374613, 0.6884499256374613, 0.6884499256374613, 0.6884498681466604, 0.6884496956742578, 0.6884496956742578, 0.6884496381834571, 0.6884495806926562, 0.6884495806926562, 0.6884494082202536, 0.6884492932386519, 0.6884492932386519, 0.688449235747851, 0.6884490057846476, 0.6884488908030459, 0.688448833312245, 0.688448833312245, 0.6884486608398425, 0.6884486033490416, 0.6884486033490416, 0.6881502260925988, 0.6879772362728229, 0.6879697049779108, 0.6879592991429558, 0.6879518253388446, 0.6878935296667765, 1.2629004224046643, 0.688177304259802, 0.6869298113720267], \"Total\": [1.0, 2.0, 1.0, 1.0, 1.0, 1.0, 2.0, 0.0, 0.0, 0.0, 0.0, 0.0, 0.0, 0.0, 0.0, 0.0, 0.0, 0.0, 0.0, 1.0, 1.0, 1.0, 1.0, 1.0, 1.0, 1.0, 1.0, 1.0, 1.0, 1.0, 1.6469388167281749, 1.0868048809976871, 1.0868048788868756, 1.0868048019786902, 1.0868047770737794, 1.086804685686531, 1.0868046835371556, 1.0868045358637888, 1.0868045621935452, 1.0868045468315621, 1.0868045459902569, 1.086804469514453, 1.086804482489496, 1.0868037750664812, 1.0868037094085699, 1.0868038057346503, 1.086803697139743, 1.0868034571174396, 1.0868030327892277, 1.0868029806496848, 1.0868028668674707, 1.538834139966265, 1.538641510689912, 1.5386289814129785, 1.5730577968971824, 1.6481951169469888, 3.3433492216974607, 2.024848182189762, 2.234264393494026, 0.9785711574364246, 0.9785661679725449, 0.9785662125202605, 0.9785662953107072, 0.9785662664393129, 0.9785663604122375, 0.9785667025250813, 0.978566969552603, 0.9785668738360184, 0.9785669538566182, 0.9785669850816452, 0.9785671803980106, 0.9785711574364246, 1.5386289814129785, 1.538641510689912, 1.538834139966265, 1.5522255433401093, 2.024848182189762, 1.0129100442623622, 1.012910169587016, 1.012910098377092, 1.0129099867349998, 1.0129100837454, 1.0129097560996287, 1.012909821172419, 1.0129097851026394, 1.0129097726414205, 1.0129097952935775, 1.0129603680204702, 1.0129597988182133, 1.0129599262797724, 1.0129666671273645, 3.3433492216974607, 1.0880634381525656, 1.0880633824749324, 1.0868028668674707, 1.0868029806496848, 2.234264393494026, 1.0880646026713539, 1.088064594714311, 1.5730577968971824, 1.08806461968714, 1.088064782221276, 1.0868030327892277, 1.5742820581478667, 1.0880669551223703, 1.0880669337176452, 1.088066884110829, 1.088066887698714, 1.0880668909955034, 1.088066940118838, 1.0880668063594836, 1.0880668874596189, 1.0880668389525436, 1.0880665615436766, 1.0880666041602494, 1.0880666155788925, 1.0880665637534135, 1.0880665643947385, 1.0880664826398734, 1.0880660644507307, 1.0880660130605795, 1.0880659433561202, 1.088065993235941, 1.0880658994268175, 1.0880658083627623, 1.088064782221276, 1.08806461968714, 1.088064594714311, 1.0880646026713539, 1.0880633824749324, 1.0880634381525656, 1.5742820581478667, 1.6481951169469888, 3.3433492216974607, 1.0129097726414205, 1.0129097851026394, 1.012909821172419, 1.0129097560996287, 1.0129097952935775, 1.0129099867349998, 1.0129100837454, 1.0129100442623622, 1.012910098377092, 1.012910169587016, 1.0129597988182133, 1.0129599262797724, 1.0129603680204702, 1.012964622554286, 1.012965496961726, 1.0129666671273645, 1.012972210682782, 1.5730577968971824, 1.5742820581478667, 2.024848182189762, 0.9785711574364246, 0.9785671803980106, 0.9785668738360184, 0.978566969552603, 0.9785669538566182, 0.9785667025250813, 0.9785669850816452, 0.9785663604122375, 0.9785662664393129, 0.9785662125202605, 1.1003093417664997, 1.1003182354116903, 1.1003193056676965, 1.1003209187977547, 1.1003221070589224, 1.1003484965726764, 3.3433492216974607, 1.538834139966265, 1.0880633824749324, 1.1003941431637436, 1.1003940936670737, 1.1003941079910198, 1.1003941158305206, 1.1003942292384379, 1.1003940871256777, 1.1003941065520855, 1.100394067402381, 1.100394077329133, 1.1003941429716049, 1.1003940391906346, 1.1003940038060875, 1.1003940443094722, 1.100394068733518, 1.100394057552176, 1.1003940371728593, 1.1003940495382385, 1.1003940717519471, 1.1003939455730616, 1.100393935369536, 1.1003940469873128, 1.1003484965726764, 1.1003221070589224, 1.1003209187977547, 1.1003193056676965, 1.1003182354116903, 1.1003093417664997, 2.234264393494026, 1.5522255433401093, 3.3433492216974607], \"Category\": [\"Default\", \"Default\", \"Default\", \"Default\", \"Default\", \"Default\", \"Default\", \"Default\", \"Default\", \"Default\", \"Default\", \"Default\", \"Default\", \"Default\", \"Default\", \"Default\", \"Default\", \"Default\", \"Default\", \"Default\", \"Default\", \"Default\", \"Default\", \"Default\", \"Default\", \"Default\", \"Default\", \"Default\", \"Default\", \"Default\", \"Topic1\", \"Topic1\", \"Topic1\", \"Topic1\", \"Topic1\", \"Topic1\", \"Topic1\", \"Topic1\", \"Topic1\", \"Topic1\", \"Topic1\", \"Topic1\", \"Topic1\", \"Topic1\", \"Topic1\", \"Topic1\", \"Topic1\", \"Topic1\", \"Topic1\", \"Topic1\", \"Topic1\", \"Topic1\", \"Topic1\", \"Topic1\", \"Topic1\", \"Topic1\", \"Topic1\", \"Topic1\", \"Topic1\", \"Topic1\", \"Topic2\", \"Topic2\", \"Topic2\", \"Topic2\", \"Topic2\", \"Topic2\", \"Topic2\", \"Topic2\", \"Topic2\", \"Topic2\", \"Topic2\", \"Topic2\", \"Topic2\", \"Topic2\", \"Topic2\", \"Topic2\", \"Topic2\", \"Topic2\", \"Topic2\", \"Topic2\", \"Topic2\", \"Topic2\", \"Topic2\", \"Topic2\", \"Topic2\", \"Topic2\", \"Topic2\", \"Topic2\", \"Topic2\", \"Topic2\", \"Topic2\", \"Topic2\", \"Topic2\", \"Topic2\", \"Topic2\", \"Topic2\", \"Topic2\", \"Topic2\", \"Topic2\", \"Topic2\", \"Topic2\", \"Topic2\", \"Topic2\", \"Topic2\", \"Topic3\", \"Topic3\", \"Topic3\", \"Topic3\", \"Topic3\", \"Topic3\", \"Topic3\", \"Topic3\", \"Topic3\", \"Topic3\", \"Topic3\", \"Topic3\", \"Topic3\", \"Topic3\", \"Topic3\", \"Topic3\", \"Topic3\", \"Topic3\", \"Topic3\", \"Topic3\", \"Topic3\", \"Topic3\", \"Topic3\", \"Topic3\", \"Topic3\", \"Topic3\", \"Topic3\", \"Topic3\", \"Topic3\", \"Topic3\", \"Topic4\", \"Topic4\", \"Topic4\", \"Topic4\", \"Topic4\", \"Topic4\", \"Topic4\", \"Topic4\", \"Topic4\", \"Topic4\", \"Topic4\", \"Topic4\", \"Topic4\", \"Topic4\", \"Topic4\", \"Topic4\", \"Topic4\", \"Topic4\", \"Topic4\", \"Topic4\", \"Topic4\", \"Topic4\", \"Topic4\", \"Topic4\", \"Topic4\", \"Topic4\", \"Topic4\", \"Topic4\", \"Topic4\", \"Topic4\", \"Topic4\", \"Topic4\", \"Topic4\", \"Topic4\", \"Topic4\", \"Topic4\", \"Topic4\", \"Topic4\", \"Topic4\", \"Topic5\", \"Topic5\", \"Topic5\", \"Topic5\", \"Topic5\", \"Topic5\", \"Topic5\", \"Topic5\", \"Topic5\", \"Topic5\", \"Topic5\", \"Topic5\", \"Topic5\", \"Topic5\", \"Topic5\", \"Topic5\", \"Topic5\", \"Topic5\", \"Topic5\", \"Topic5\", \"Topic5\", \"Topic5\", \"Topic5\", \"Topic5\", \"Topic5\", \"Topic5\", \"Topic5\", \"Topic5\", \"Topic5\", \"Topic5\"], \"logprob\": [30.0, 29.0, 28.0, 27.0, 26.0, 25.0, 24.0, 23.0, 22.0, 21.0, 20.0, 19.0, 18.0, 17.0, 16.0, 15.0, 14.0, 13.0, 12.0, 11.0, 10.0, 9.0, 8.0, 7.0, 6.0, 5.0, 4.0, 3.0, 2.0, 1.0, -3.1968, -3.803, -3.803, -3.803, -3.803, -3.803, -3.803, -3.803, -3.803, -3.803, -3.803, -3.803, -3.803, -3.803, -3.803, -3.803, -3.803, -3.803, -3.803, -3.803, -3.803, -3.8019, -3.8034, -3.8035, -3.8033, -3.8031, -3.1958, -3.8036, -3.804, -5.5946, -3.5016, -3.5016, -3.5016, -3.5016, -3.5016, -3.5016, -3.5016, -3.5016, -3.5016, -3.5016, -3.5016, -3.5017, -3.5011, -3.5012, -3.5027, -3.5012, -3.501, -5.2933, -5.2933, -5.2933, -5.2933, -5.2933, -5.2933, -5.2933, -5.2933, -5.2933, -5.2933, -5.2933, -5.2933, -5.2933, -5.2933, -5.2932, -5.2932, -5.2932, -5.2933, -5.2933, -5.2933, -5.2933, -5.2933, -5.2933, -5.2933, -5.2933, -5.2933, -5.2933, -3.803, -3.803, -3.803, -3.803, -3.803, -3.803, -3.803, -3.803, -3.803, -3.803, -3.803, -3.803, -3.803, -3.803, -3.803, -3.803, -3.803, -3.803, -3.803, -3.803, -3.803, -3.803, -3.803, -3.803, -3.803, -3.803, -3.803, -3.8032, -3.8028, -3.197, -3.5743, -3.5743, -3.5743, -3.5743, -3.5743, -3.5743, -3.5743, -3.5743, -3.5743, -3.5743, -3.5748, -3.5748, -3.5748, -3.5748, -3.5748, -3.5748, -3.5749, -3.5744, -3.5741, -3.5743, -5.3659, -5.366, -5.366, -5.366, -5.366, -5.366, -5.366, -5.366, -5.366, -5.366, -5.3612, -5.3617, -5.3617, -5.3618, -5.3619, -5.3634, -5.362, -5.3659, -5.3659, -3.8029, -3.8029, -3.8029, -3.8029, -3.8029, -3.8029, -3.8029, -3.8029, -3.8029, -3.8029, -3.8029, -3.8029, -3.8029, -3.8029, -3.8029, -3.8029, -3.8029, -3.8029, -3.8029, -3.8029, -3.8029, -3.8034, -3.8036, -3.8036, -3.8037, -3.8037, -3.8037, -3.1962, -3.8033, -3.8052], \"loglift\": [30.0, 29.0, 28.0, 27.0, 26.0, 25.0, 24.0, 23.0, 22.0, 21.0, 20.0, 19.0, 18.0, 17.0, 16.0, 15.0, 14.0, 13.0, 12.0, 11.0, 10.0, 9.0, 8.0, 7.0, 6.0, 5.0, 4.0, 3.0, 2.0, 1.0, 1.1718, 0.9813, 0.9813, 0.9813, 0.9813, 0.9813, 0.9813, 0.9813, 0.9813, 0.9813, 0.9813, 0.9813, 0.9813, 0.9813, 0.9813, 0.9813, 0.9813, 0.9813, 0.9813, 0.9813, 0.9813, 0.6346, 0.6333, 0.6332, 0.6112, 0.5648, 0.4648, 0.3585, 0.2596, -0.7054, 1.3876, 1.3876, 1.3876, 1.3876, 1.3876, 1.3876, 1.3876, 1.3876, 1.3876, 1.3876, 1.3876, 1.3875, 0.9356, 0.9354, 0.9338, 0.9266, 0.6611, -0.4386, -0.4386, -0.4386, -0.4386, -0.4386, -0.4386, -0.4386, -0.4386, -0.4386, -0.4386, -0.4387, -0.4387, -0.4387, -0.4387, -1.6326, -0.5101, -0.5101, -0.509, -0.509, -1.2296, -0.5101, -0.5101, -0.8788, -0.5101, -0.5101, -0.509, -0.8795, 0.9802, 0.9802, 0.9802, 0.9802, 0.9802, 0.9802, 0.9802, 0.9802, 0.9802, 0.9802, 0.9802, 0.9802, 0.9802, 0.9802, 0.9802, 0.9802, 0.9802, 0.9802, 0.9802, 0.9802, 0.9802, 0.9802, 0.9801, 0.9801, 0.9801, 0.9801, 0.9801, 0.6106, 0.565, 0.4636, 1.2804, 1.2804, 1.2804, 1.2804, 1.2804, 1.2804, 1.2804, 1.2804, 1.2804, 1.2804, 1.2799, 1.2799, 1.2799, 1.2799, 1.2798, 1.2798, 1.2798, 0.8401, 0.8397, 0.5877, -0.4767, -0.4768, -0.4768, -0.4768, -0.4768, -0.4768, -0.4768, -0.4768, -0.4768, -0.4768, -0.5892, -0.5897, -0.5898, -0.5899, -0.59, -0.5915, -1.7015, -0.9294, -0.5828, 0.9689, 0.9689, 0.9689, 0.9689, 0.9689, 0.9689, 0.9689, 0.9689, 0.9689, 0.9689, 0.9689, 0.9689, 0.9689, 0.9689, 0.9689, 0.9689, 0.9689, 0.9689, 0.9689, 0.9689, 0.9689, 0.9685, 0.9683, 0.9683, 0.9683, 0.9683, 0.9682, 0.8674, 0.6245, -0.1446]}, \"token.table\": {\"Topic\": [3, 5, 2, 4, 2, 5, 1, 3, 1, 4, 1, 3, 5, 3, 5, 5, 3, 5, 3, 3, 4, 3, 1, 4, 4, 3, 5, 5, 1, 5, 5, 1, 1, 1, 3, 1, 2, 3, 5, 1, 4, 3, 3, 3, 5, 4, 4, 5, 1, 3, 1, 2, 5, 3, 3, 1, 4, 1, 4, 1, 5, 3, 1, 2, 5, 5, 1, 3, 1, 2, 3, 3, 5, 1, 2, 4, 3, 1, 2, 2, 1, 5, 5, 5, 2, 5, 4, 3, 4, 1, 2, 4, 4, 5, 3, 3, 3, 4, 2, 5, 1, 3, 5, 5, 1, 2, 5, 1, 3, 1, 1, 1, 4, 4, 5, 1, 2, 5, 3, 4, 2, 2, 3, 4, 2, 5], \"Freq\": [0.9190629237705017, 0.9088247828382947, 1.02190256663805, 0.9872547815618443, 0.6442362737107008, 0.6442362737107008, 0.9201285338091866, 0.9190611010484158, 0.6357045506989478, 0.6357045506989478, 0.2991012705194725, 0.2991012705194725, 0.2991012705194725, 0.9190618841104484, 0.9087653465888735, 0.9087652165279722, 0.9190614184126432, 0.908765350180982, 0.9190620570135578, 0.6352101866526345, 0.6352101866526345, 0.9190610883753327, 0.6071870975672369, 0.9872547433606013, 0.9872545567680563, 0.9190630754321548, 0.908765358315818, 0.90883532661328, 0.9201284546176718, 0.9087653490816566, 0.908765287613127, 0.9201293585427605, 0.9201285319894469, 0.606724282651884, 0.606724282651884, 0.9201287150086581, 1.0219031707836284, 0.9190613751787268, 0.9088257642985026, 0.9201295721420771, 0.9872060087346674, 0.9190611483568885, 0.919061214031386, 0.9190630610593129, 0.9088029866126612, 0.9872547181372215, 0.987205454004289, 0.9087654027022678, 0.9201299755381657, 0.9190618407024875, 0.920129276989444, 1.0219031027990102, 0.908765316660675, 0.9190613848237557, 0.9190614189543538, 0.9201299313947883, 0.9872544622147873, 0.9201293689300161, 0.9872547654390234, 0.9201287040235087, 0.9087653751461682, 0.9190614874688484, 0.9201283684190095, 1.0219033037611172, 0.9087653101863887, 0.9088279806849192, 0.9201300718706552, 0.9190611865008923, 0.9201286495491489, 1.0218980933585993, 0.9190641061050859, 0.9190619008558202, 0.9088270966882466, 0.6499292630518787, 0.6499292630518787, 0.9872547532934226, 0.9190611455282548, 0.92012836663192, 1.0219027455354985, 1.0219032572405473, 0.44757460348556277, 0.44757460348556277, 0.9087652877718057, 0.9087653670408575, 1.0219024504659397, 0.9087653692523643, 0.9871939125812362, 0.9190619429880488, 0.9872058845137444, 0.4938641863601621, 0.4938641863601621, 0.4938641863601621, 0.9872543785474286, 0.9087653338924099, 0.9190611453262975, 0.9190611064553326, 0.9190619800940276, 0.9872545006977754, 1.02190246668268, 0.9087654592209093, 0.9201286502614288, 0.9190630821532854, 0.9087653649341642, 0.9087653734797794, 0.6499239706275762, 0.6499239706275762, 0.9087653178490251, 0.9201293029542786, 0.9190611425415872, 0.9201286588348687, 0.9201286365431299, 0.9201284335322689, 0.9871993150928291, 0.9872544479536961, 0.9087654507942803, 0.6498426139817267, 0.6498426139817267, 0.9087653284901689, 0.9190640590753703, 0.9872004554936821, 1.0219032009336246, 1.0219024830737562, 0.9190614208208607, 0.9872013076610765, 1.0219022465001044, 0.9087653419829298], \"Term\": [\"adapt\", \"albedo\", \"allocation\", \"amplifier\", \"analysis\", \"analysis\", \"anomaly\", \"application\", \"architecture\", \"architecture\", \"base\", \"base\", \"base\", \"basket\", \"blocking\", \"browsing\", \"buffer\", \"capacity\", \"chains\", \"class\", \"class\", \"combining\", \"comparative\", \"comparator\", \"complex\", \"composition\", \"concept\", \"consistent\", \"consumption\", \"criterion\", \"crosstalk\", \"curve\", \"custom\", \"design\", \"design\", \"detection\", \"difference\", \"differential\", \"diffuse\", \"digital\", \"discrete\", \"domain\", \"drive\", \"dynamic\", \"editing\", \"efficiency\", \"efficient\", \"establish\", \"evaluation\", \"factorize\", \"filling\", \"finite\", \"flexible\", \"flip\", \"followers\", \"framework\", \"function\", \"halftoning\", \"hearing\", \"impact\", \"impair\", \"improve\", \"independent\", \"integrity\", \"interface\", \"interreflection\", \"javascript\", \"language\", \"large\", \"lighting\", \"localization\", \"markov\", \"measurement\", \"method\", \"method\", \"micropower\", \"model\", \"module\", \"multicast\", \"multilayered\", \"network\", \"network\", \"noise\", \"optical\", \"optimal\", \"paper\", \"parallel\", \"personalize\", \"pipelined\", \"power\", \"power\", \"power\", \"predict\", \"probability\", \"prototyping\", \"rapid\", \"recommendation\", \"reflectance\", \"scalable\", \"scaling\", \"secondary\", \"service\", \"sheaf\", \"sheet\", \"signal\", \"signal\", \"simple\", \"space\", \"specific\", \"storage\", \"study\", \"subbyte\", \"sup>2</sup\", \"surface\", \"tangible\", \"technology\", \"technology\", \"toward\", \"traffic\", \"transform\", \"using\", \"video\", \"voltage\", \"wavelet\", \"wimax\", \"wireless\"]}, \"R\": 30, \"lambda.step\": 0.01, \"plot.opts\": {\"xlab\": \"PC1\", \"ylab\": \"PC2\"}, \"topic.order\": [1, 2, 3, 4, 5]};\n",
       "\n",
       "function LDAvis_load_lib(url, callback){\n",
       "  var s = document.createElement('script');\n",
       "  s.src = url;\n",
       "  s.async = true;\n",
       "  s.onreadystatechange = s.onload = callback;\n",
       "  s.onerror = function(){console.warn(\"failed to load library \" + url);};\n",
       "  document.getElementsByTagName(\"head\")[0].appendChild(s);\n",
       "}\n",
       "\n",
       "if(typeof(LDAvis) !== \"undefined\"){\n",
       "   // already loaded: just create the visualization\n",
       "   !function(LDAvis){\n",
       "       new LDAvis(\"#\" + \"ldavis_el1964014810877037444221551111\", ldavis_el1964014810877037444221551111_data);\n",
       "   }(LDAvis);\n",
       "}else if(typeof define === \"function\" && define.amd){\n",
       "   // require.js is available: use it to load d3/LDAvis\n",
       "   require.config({paths: {d3: \"https://d3js.org/d3.v5\"}});\n",
       "   require([\"d3\"], function(d3){\n",
       "      window.d3 = d3;\n",
       "      LDAvis_load_lib(\"https://cdn.jsdelivr.net/gh/bmabey/pyLDAvis@3.3.1/pyLDAvis/js/ldavis.v3.0.0.js\", function(){\n",
       "        new LDAvis(\"#\" + \"ldavis_el1964014810877037444221551111\", ldavis_el1964014810877037444221551111_data);\n",
       "      });\n",
       "    });\n",
       "}else{\n",
       "    // require.js not available: dynamically load d3 & LDAvis\n",
       "    LDAvis_load_lib(\"https://d3js.org/d3.v5.js\", function(){\n",
       "         LDAvis_load_lib(\"https://cdn.jsdelivr.net/gh/bmabey/pyLDAvis@3.3.1/pyLDAvis/js/ldavis.v3.0.0.js\", function(){\n",
       "                 new LDAvis(\"#\" + \"ldavis_el1964014810877037444221551111\", ldavis_el1964014810877037444221551111_data);\n",
       "            })\n",
       "         });\n",
       "}\n",
       "</script>"
      ],
      "text/plain": [
       "<IPython.core.display.HTML object>"
      ]
     },
     "execution_count": 26,
     "metadata": {},
     "output_type": "execute_result"
    }
   ],
   "source": [
    "import pyLDAvis.gensim_models\n",
    "lda_display = pyLDAvis.gensim_models.prepare(lda, corpus, dictionary, sort_topics=False)\n",
    "pyLDAvis.display(lda_display)"
   ]
  },
  {
   "cell_type": "code",
   "execution_count": null,
   "metadata": {},
   "outputs": [],
   "source": []
  }
 ],
 "metadata": {
  "kernelspec": {
   "display_name": "Python 3",
   "language": "python",
   "name": "python3"
  },
  "language_info": {
   "codemirror_mode": {
    "name": "ipython",
    "version": 3
   },
   "file_extension": ".py",
   "mimetype": "text/x-python",
   "name": "python",
   "nbconvert_exporter": "python",
   "pygments_lexer": "ipython3",
   "version": "3.8.5"
  }
 },
 "nbformat": 4,
 "nbformat_minor": 4
}
